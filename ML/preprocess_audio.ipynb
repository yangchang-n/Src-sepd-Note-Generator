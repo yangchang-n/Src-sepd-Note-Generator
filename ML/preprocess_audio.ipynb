{
  "nbformat": 4,
  "nbformat_minor": 0,
  "metadata": {
    "colab": {
      "provenance": [],
      "mount_file_id": "1XEPZDrdb1F_BGp4iQQRrlMQ-WSf2NhJ_",
      "authorship_tag": "ABX9TyNis8lnzY3DnHbeP2ECfSAu",
      "include_colab_link": true
    },
    "kernelspec": {
      "name": "python3",
      "display_name": "Python 3"
    },
    "language_info": {
      "name": "python"
    }
  },
  "cells": [
    {
      "cell_type": "markdown",
      "metadata": {
        "id": "view-in-github",
        "colab_type": "text"
      },
      "source": [
        "<a href=\"https://colab.research.google.com/github/yangchang-n/Src-sepd-Note-Generator/blob/main/ML/preprocess_audio.ipynb\" target=\"_parent\"><img src=\"https://colab.research.google.com/assets/colab-badge.svg\" alt=\"Open In Colab\"/></a>"
      ]
    },
    {
      "cell_type": "code",
      "source": [
        "import numpy as np\n",
        "import librosa, librosa.display\n",
        "import matplotlib.pyplot as plt"
      ],
      "metadata": {
        "id": "DYEfE3nQD8Ou"
      },
      "execution_count": null,
      "outputs": []
    },
    {
      "cell_type": "code",
      "source": [
        "FIG_SIZE = (15, 10)\n",
        "file = '' # Music file path\n",
        "bpm = 200 # BPM of music\n",
        "sample_rate = bpm * 100"
      ],
      "metadata": {
        "id": "16rPeBE5_7Yx"
      },
      "execution_count": null,
      "outputs": []
    },
    {
      "cell_type": "code",
      "source": [
        "# Display Waveform\n",
        "signal, sample_rate = librosa.load(file, sr = sample_rate) # If bpm == 200, sample_rate would be 20,000Hz in default setting\n",
        "print('signal shape : ', signal.shape)\n",
        "print('length : ', signal.shape[0]/float(sample_rate), 'secs')"
      ],
      "metadata": {
        "id": "KnSY52uuD-42"
      },
      "execution_count": null,
      "outputs": []
    },
    {
      "cell_type": "code",
      "source": [
        "plt.figure(figsize = FIG_SIZE)\n",
        "librosa.display.waveshow(signal, sr = sample_rate, alpha = 0.4)\n",
        "plt.xlabel('Time (s)')\n",
        "plt.ylabel('Amplitude')\n",
        "plt.title('Waveform')"
      ],
      "metadata": {
        "id": "Pn7g7KzHEe81"
      },
      "execution_count": null,
      "outputs": []
    },
    {
      "cell_type": "code",
      "source": [
        "# FFT -> Power Spectrum\n",
        "fft = np.fft.fft(signal)\n",
        "spectrum = np.abs(fft)\n",
        "f = np.linspace(0, sample_rate, len(spectrum))\n",
        "left_spectrum = spectrum[ : int(len(spectrum) / 2)]\n",
        "left_f = f[ : int(len(spectrum) / 2)]\n",
        "\n",
        "print('fft shape : ', fft.shape)\n",
        "print('spectrum shape : ', spectrum.shape)\n",
        "print('f shape : ', f.shape)\n",
        "print('left_spectrum shape : ', left_spectrum.shape)\n",
        "print('left_f shape : ', left_f.shape)"
      ],
      "metadata": {
        "id": "fFM9OE-jEGv4"
      },
      "execution_count": null,
      "outputs": []
    },
    {
      "cell_type": "code",
      "source": [
        "plt.figure(figsize = FIG_SIZE)\n",
        "plt.plot(left_f, left_spectrum, alpha = 0.4)\n",
        "plt.xlabel('Frequency')\n",
        "plt.ylabel('Magnitude')\n",
        "plt.title('Power spectrum')"
      ],
      "metadata": {
        "id": "Y3c8QXPNFb8U"
      },
      "execution_count": null,
      "outputs": []
    },
    {
      "cell_type": "code",
      "source": [
        "# STFT -> Spectrogram\n",
        "n_fft = int(60 / bpm * sample_rate) # Window in num of samples\n",
        "hop_length = int(n_fft / 4) # In num of samples\n",
        "\n",
        "# Calculate duration hop length and window in seconds\n",
        "hop_length_duration = float(hop_length) / sample_rate\n",
        "n_fft_duration = float(n_fft) / sample_rate\n",
        "\n",
        "print(\"STFT hop length duration is : {}s\".format(hop_length_duration))\n",
        "print(\"STFT window duration is : {}s\".format(n_fft_duration))"
      ],
      "metadata": {
        "id": "052QqOAkEMQh"
      },
      "execution_count": null,
      "outputs": []
    },
    {
      "cell_type": "code",
      "source": [
        "# Perform STFT\n",
        "stft = librosa.stft(signal, n_fft = n_fft, hop_length = hop_length)\n",
        "\n",
        "# Calculate abs values on complex numbers to get magnitude\n",
        "spectrogram = np.abs(stft)"
      ],
      "metadata": {
        "id": "yVPONvg1FkwY"
      },
      "execution_count": null,
      "outputs": []
    },
    {
      "cell_type": "code",
      "source": [
        "# Display spectrogram\n",
        "plt.figure(figsize = FIG_SIZE)\n",
        "librosa.display.specshow(spectrogram, sr = sample_rate, hop_length = hop_length)\n",
        "plt.xlabel('Time')\n",
        "plt.ylabel('Frequency')\n",
        "plt.colorbar()\n",
        "plt.title('Spectrogram')"
      ],
      "metadata": {
        "id": "cVww8vxTFzdF"
      },
      "execution_count": null,
      "outputs": []
    },
    {
      "cell_type": "code",
      "source": [
        "# Cast amplitude to decibels\n",
        "# Apply logarithm to cast amplitude to decibels\n",
        "log_spectrogram = librosa.amplitude_to_db(spectrogram)\n",
        "\n",
        "plt.figure(figsize = FIG_SIZE)\n",
        "librosa.display.specshow(log_spectrogram, sr = sample_rate, hop_length = hop_length)\n",
        "plt.xlabel('Time')\n",
        "plt.ylabel('Frequency')\n",
        "plt.colorbar(format = '%+2.0f dB')\n",
        "plt.title('Spectrogram (dB)')"
      ],
      "metadata": {
        "id": "tVJuY2skENxz"
      },
      "execution_count": null,
      "outputs": []
    },
    {
      "cell_type": "code",
      "source": [
        "# MFCCs\n",
        "# Extract 13 MFCCs\n",
        "MFCCs = librosa.feature.mfcc(y = signal, sr = sample_rate, n_fft = n_fft, hop_length = hop_length, n_mfcc = 13)\n",
        "\n",
        "# Display MFCCs\n",
        "plt.figure(figsize = FIG_SIZE)\n",
        "librosa.display.specshow(MFCCs, sr = sample_rate, hop_length = hop_length)\n",
        "plt.xlabel('Time')\n",
        "plt.ylabel('MFCC coefficients')\n",
        "plt.colorbar()\n",
        "plt.title('MFCCs')\n",
        "plt.show()"
      ],
      "metadata": {
        "id": "glqWtsKuEPTJ"
      },
      "execution_count": null,
      "outputs": []
    }
  ]
}