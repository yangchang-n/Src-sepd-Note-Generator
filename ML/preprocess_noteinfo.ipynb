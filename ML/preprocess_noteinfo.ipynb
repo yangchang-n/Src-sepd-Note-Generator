{
  "nbformat": 4,
  "nbformat_minor": 0,
  "metadata": {
    "colab": {
      "provenance": [],
      "mount_file_id": "11dICj7P6bqaAPQoEWGhG8UPGqr66_UH4",
      "authorship_tag": "ABX9TyNRdW0JkI4TIw2IT1nJ1MWh",
      "include_colab_link": true
    },
    "kernelspec": {
      "name": "python3",
      "display_name": "Python 3"
    },
    "language_info": {
      "name": "python"
    }
  },
  "cells": [
    {
      "cell_type": "markdown",
      "metadata": {
        "id": "view-in-github",
        "colab_type": "text"
      },
      "source": [
        "<a href=\"https://colab.research.google.com/github/yangchang-n/Src-sepd-Note-Generator/blob/main/ML/preprocess_noteinfo.ipynb\" target=\"_parent\"><img src=\"https://colab.research.google.com/assets/colab-badge.svg\" alt=\"Open In Colab\"/></a>"
      ]
    },
    {
      "cell_type": "code",
      "source": [
        "file = '' # Music's note-info file path\n",
        "bpm = 200 # BPM of music\n",
        "note_per_beat = 4\n",
        "note_time_dist = 60 / (bpm * note_per_beat)\n",
        "music_length_sec = 260 # sec(s)\n",
        "button_count = 4 # Count of buttons in note-info file\n",
        "noteinfo = [[0] * button_count for i in range(int(music_length_sec / note_time_dist) + 1)]"
      ],
      "metadata": {
        "id": "1b4SUi8bGSAs"
      },
      "execution_count": null,
      "outputs": []
    },
    {
      "cell_type": "code",
      "source": [
        "import numpy as np\n",
        "\n",
        "noteinfo_np = np.array(noteinfo)\n",
        "print(noteinfo_np.shape)"
      ],
      "metadata": {
        "id": "HT6n0LM4HZ8G"
      },
      "execution_count": null,
      "outputs": []
    },
    {
      "cell_type": "code",
      "source": [
        "fileinfo = []\n",
        "\n",
        "with open(file, 'r') as f :\n",
        "  for line in f :\n",
        "    lineinfo = line.split(',')\n",
        "    fileinfo.append([int(lineinfo[0]), int(lineinfo[2])])"
      ],
      "metadata": {
        "id": "ya7-jbzmD4Qo"
      },
      "execution_count": null,
      "outputs": []
    },
    {
      "cell_type": "code",
      "source": [
        "print(note_time_dist * 1000)\n",
        "\n",
        "for i in range(len(fileinfo)) :\n",
        "  noteinfo[round(fileinfo[i][1] / (note_time_dist * 1000))][int((fileinfo[i][0] - 64) / 128)] = 1"
      ],
      "metadata": {
        "id": "8x3tlo9dJCpi"
      },
      "execution_count": null,
      "outputs": []
    }
  ]
}