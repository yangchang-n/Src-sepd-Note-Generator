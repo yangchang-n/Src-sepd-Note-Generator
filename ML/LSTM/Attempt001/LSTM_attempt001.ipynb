{
  "nbformat": 4,
  "nbformat_minor": 0,
  "metadata": {
    "colab": {
      "provenance": [],
      "gpuType": "T4",
      "mount_file_id": "12KKDqIIxk0_C_x7F_MI7-_hczknLQFpS",
      "authorship_tag": "ABX9TyOqOADPQ4busg23C1GnmeQs",
      "include_colab_link": true
    },
    "kernelspec": {
      "name": "python3",
      "display_name": "Python 3"
    },
    "language_info": {
      "name": "python"
    },
    "accelerator": "GPU"
  },
  "cells": [
    {
      "cell_type": "markdown",
      "metadata": {
        "id": "view-in-github",
        "colab_type": "text"
      },
      "source": [
        "<a href=\"https://colab.research.google.com/github/yangchang-n/Src-sepd-Note-Generator/blob/main/ML/LSTM_attempt001.ipynb\" target=\"_parent\"><img src=\"https://colab.research.google.com/assets/colab-badge.svg\" alt=\"Open In Colab\"/></a>"
      ]
    },
    {
      "cell_type": "code",
      "execution_count": null,
      "metadata": {
        "id": "fsl8tR8mP9oZ"
      },
      "outputs": [],
      "source": [
        "import numpy as np\n",
        "import librosa, librosa.display\n",
        "import matplotlib.pyplot as plt\n",
        "\n",
        "import tensorflow as tf\n",
        "from sklearn.model_selection import train_test_split\n",
        "from sklearn.preprocessing import StandardScaler"
      ]
    },
    {
      "cell_type": "code",
      "source": [
        "FIG_SIZE = (15, 10)\n",
        "file = '' # Music file path\n",
        "bpm = 200 # BPM of music\n",
        "sample_rate = bpm * 100"
      ],
      "metadata": {
        "id": "XgrEJgeKQvPf"
      },
      "execution_count": null,
      "outputs": []
    },
    {
      "cell_type": "code",
      "source": [
        "# Display Waveform\n",
        "signal, sample_rate = librosa.load(file, sr = sample_rate)\n",
        "print('signal shape : ', signal.shape)\n",
        "print('length : ', signal.shape[0] / float(sample_rate), 'secs')"
      ],
      "metadata": {
        "id": "ZS75cP_LQ5WC"
      },
      "execution_count": null,
      "outputs": []
    },
    {
      "cell_type": "code",
      "source": [
        "plt.figure(figsize = FIG_SIZE)\n",
        "librosa.display.waveshow(signal, sr = sample_rate, alpha = 0.4)\n",
        "plt.xlabel('Time (s)')\n",
        "plt.ylabel('Amplitude')\n",
        "plt.title('Waveform')"
      ],
      "metadata": {
        "id": "_Wl5TSSjQ6_p"
      },
      "execution_count": null,
      "outputs": []
    },
    {
      "cell_type": "code",
      "source": [
        "# FFT -> Power Spectrum\n",
        "fft = np.fft.fft(signal)\n",
        "spectrum = np.abs(fft)\n",
        "f = np.linspace(0, sample_rate, len(spectrum))\n",
        "left_spectrum = spectrum[ : int(len(spectrum) / 2)]\n",
        "left_f = f[ : int(len(spectrum) / 2)]\n",
        "\n",
        "print('fft shape : ', fft.shape)\n",
        "print('spectrum shape : ', spectrum.shape)\n",
        "print('f shape : ', f.shape)\n",
        "print('left_spectrum shape : ', left_spectrum.shape)\n",
        "print('left_f shape : ', left_f.shape)"
      ],
      "metadata": {
        "id": "yn_C58n3RXk2"
      },
      "execution_count": null,
      "outputs": []
    },
    {
      "cell_type": "code",
      "source": [
        "plt.figure(figsize = FIG_SIZE)\n",
        "plt.plot(left_f, left_spectrum, alpha = 0.4)\n",
        "plt.xlabel('Frequency')\n",
        "plt.ylabel('Magnitude')\n",
        "plt.title('Power spectrum')"
      ],
      "metadata": {
        "id": "dS6OGps0ReS1"
      },
      "execution_count": null,
      "outputs": []
    },
    {
      "cell_type": "code",
      "source": [
        "# STFT -> Spectrogram\n",
        "n_fft = int(60 / bpm * sample_rate) # Window in num of samples\n",
        "hop_length = int(n_fft / 4) # In num of samples\n",
        "\n",
        "# Calculate duration hop length and window in seconds\n",
        "hop_length_duration = float(hop_length) / sample_rate\n",
        "n_fft_duration = float(n_fft) / sample_rate\n",
        "\n",
        "print(\"STFT hop length duration is : {}s\".format(hop_length_duration))\n",
        "print(\"STFT window duration is : {}s\".format(n_fft_duration))"
      ],
      "metadata": {
        "colab": {
          "base_uri": "https://localhost:8080/"
        },
        "id": "mIQuuZduRgeB",
        "outputId": "40887f83-4cf3-4a70-e6bf-fc7dfeff5fa3"
      },
      "execution_count": null,
      "outputs": [
        {
          "output_type": "stream",
          "name": "stdout",
          "text": [
            "STFT hop length duration is : 0.075s\n",
            "STFT window duration is : 0.3s\n"
          ]
        }
      ]
    },
    {
      "cell_type": "code",
      "source": [
        "# Perform STFT\n",
        "stft = librosa.stft(signal, n_fft = n_fft, hop_length = hop_length)\n",
        "\n",
        "# Calculate abs values on complex numbers to get magnitude\n",
        "spectrogram = np.abs(stft)"
      ],
      "metadata": {
        "id": "WHHIuc-6RiA1"
      },
      "execution_count": null,
      "outputs": []
    },
    {
      "cell_type": "code",
      "source": [
        "# Display spectrogram\n",
        "plt.figure(figsize = FIG_SIZE)\n",
        "librosa.display.specshow(spectrogram, sr = sample_rate, hop_length = hop_length)\n",
        "plt.xlabel('Time')\n",
        "plt.ylabel('Frequency')\n",
        "plt.colorbar()\n",
        "plt.title('Spectrogram')"
      ],
      "metadata": {
        "id": "gNHLBqTQRjom"
      },
      "execution_count": null,
      "outputs": []
    },
    {
      "cell_type": "code",
      "source": [
        "# Cast amplitude to decibels\n",
        "# Apply logarithm to cast amplitude to decibels\n",
        "log_spectrogram = librosa.amplitude_to_db(spectrogram)\n",
        "\n",
        "plt.figure(figsize = FIG_SIZE)\n",
        "librosa.display.specshow(log_spectrogram, sr = sample_rate, hop_length = hop_length)\n",
        "plt.xlabel('Time')\n",
        "plt.ylabel('Frequency')\n",
        "plt.colorbar(format = '%+2.0f dB')\n",
        "plt.title('Spectrogram (dB)')"
      ],
      "metadata": {
        "id": "YIF4jDmQRmc9"
      },
      "execution_count": null,
      "outputs": []
    },
    {
      "cell_type": "code",
      "source": [
        "# MFCCs\n",
        "# Extract 13 MFCCs\n",
        "MFCCs = librosa.feature.mfcc(y = signal, sr = sample_rate, n_fft = n_fft, hop_length = hop_length, n_mfcc = 13)\n",
        "\n",
        "# Display MFCCs\n",
        "plt.figure(figsize = FIG_SIZE)\n",
        "librosa.display.specshow(MFCCs, sr = sample_rate, hop_length = hop_length)\n",
        "plt.xlabel('Time')\n",
        "plt.ylabel('MFCC coefficients')\n",
        "plt.colorbar()\n",
        "plt.title('MFCCs')\n",
        "plt.show()"
      ],
      "metadata": {
        "id": "iyeV9IObRpJI"
      },
      "execution_count": null,
      "outputs": []
    },
    {
      "cell_type": "code",
      "source": [
        "print(MFCCs.shape)\n",
        "print(MFCCs[:4])\n",
        "\n",
        "MFCCs_T = np.transpose(MFCCs)\n",
        "print(MFCCs_T.shape)\n",
        "print(MFCCs_T[:4])"
      ],
      "metadata": {
        "id": "ByHrhzauR7Qe"
      },
      "execution_count": null,
      "outputs": []
    },
    {
      "cell_type": "code",
      "source": [
        "notefile = '' # Music's note-info file path\n",
        "bpm = 200 # BPM of music\n",
        "note_per_beat = 4\n",
        "note_time_dist = 60 / (bpm * note_per_beat)\n",
        "music_length_sec = 260 # sec(s)\n",
        "button_count = 4 # Count of buttons in note-info file\n",
        "noteinfo = [[0] * button_count for i in range(round(music_length_sec / note_time_dist) + 1)]\n",
        "\n",
        "fileinfo = []\n",
        "\n",
        "with open(notefile, 'r') as f :\n",
        "  for line in f :\n",
        "    lineinfo = line.split(',')\n",
        "    fileinfo.append([int(lineinfo[0]), int(lineinfo[2])])\n",
        "\n",
        "print(note_time_dist * 1000)\n",
        "\n",
        "for i in range(len(fileinfo)) :\n",
        "  noteinfo[round(fileinfo[i][1] / (note_time_dist * 1000))][int((fileinfo[i][0] - 64) / 128)] = 1\n",
        "\n",
        "noteinfo_np = np.array(noteinfo)"
      ],
      "metadata": {
        "id": "ldOZykdsS1ae"
      },
      "execution_count": null,
      "outputs": []
    },
    {
      "cell_type": "code",
      "source": [
        "print(MFCCs_T.shape)\n",
        "print(noteinfo_np.shape)"
      ],
      "metadata": {
        "colab": {
          "base_uri": "https://localhost:8080/"
        },
        "id": "0yPtGVddUhiL",
        "outputId": "adfafb7f-d0e2-4337-9ecd-9da4f1ea0582"
      },
      "execution_count": null,
      "outputs": [
        {
          "output_type": "stream",
          "name": "stdout",
          "text": [
            "(3468, 13)\n",
            "(3468, 4)\n"
          ]
        }
      ]
    },
    {
      "cell_type": "code",
      "source": [
        "std = StandardScaler()\n",
        "std.fit(MFCCs_T)\n",
        "MFCCs_T_scaled = std.transform(MFCCs_T)"
      ],
      "metadata": {
        "id": "27X67CwjPoFO"
      },
      "execution_count": null,
      "outputs": []
    },
    {
      "cell_type": "code",
      "source": [
        "def transform_sequential_dataset(dataset, timestep) :\n",
        "  sequential_dataset = []\n",
        "  for i in range(len(dataset)) :\n",
        "    if i < timestep :\n",
        "      temp = [[0] * len(dataset[0])] * (timestep - i - 1)\n",
        "      temp.extend(dataset[:i + 1])\n",
        "      sequential_dataset.append(temp)\n",
        "    else :\n",
        "      sequential_dataset.append(dataset[i - timestep + 1 : i + 1])\n",
        "  sequential_dataset = np.array(sequential_dataset)\n",
        "  return sequential_dataset"
      ],
      "metadata": {
        "id": "nWDFrbOuLTm5"
      },
      "execution_count": null,
      "outputs": []
    },
    {
      "cell_type": "code",
      "source": [
        "MFCCs_T_seq = transform_sequential_dataset(MFCCs_T, 32)\n",
        "MFCCs_T_scaled_seq = transform_sequential_dataset(MFCCs_T_scaled, 32)"
      ],
      "metadata": {
        "id": "c241QQoCNd6X"
      },
      "execution_count": null,
      "outputs": []
    },
    {
      "cell_type": "code",
      "source": [
        "print(MFCCs_T_seq.shape)\n",
        "print(noteinfo_np.shape)"
      ],
      "metadata": {
        "colab": {
          "base_uri": "https://localhost:8080/"
        },
        "id": "GjZmIf7KNtqX",
        "outputId": "7dc1907b-c68a-4ef5-d246-068bf534b279"
      },
      "execution_count": null,
      "outputs": [
        {
          "output_type": "stream",
          "name": "stdout",
          "text": [
            "(3468, 32, 13)\n",
            "(3468, 4)\n"
          ]
        }
      ]
    },
    {
      "cell_type": "code",
      "source": [
        "# x_train, x_test, y_train, y_test = train_test_split(MFCCs_T_seq, noteinfo_np, test_size = 0.2)\n",
        "x_train, x_test, y_train, y_test = train_test_split(MFCCs_T_scaled_seq, noteinfo_np, test_size = 0.2)"
      ],
      "metadata": {
        "id": "c0UU43BQVC_l"
      },
      "execution_count": null,
      "outputs": []
    },
    {
      "cell_type": "code",
      "source": [
        "model = tf.keras.Sequential([\n",
        "    tf.keras.layers.LSTM(8, return_sequences = True, input_shape = (x_train.shape[1], x_train.shape[2])),\n",
        "    tf.keras.layers.Dropout(rate = 0.2),\n",
        "    tf.keras.layers.Dense(8),\n",
        "    tf.keras.layers.Flatten(),\n",
        "    tf.keras.layers.Dense(4, activation = 'sigmoid')\n",
        "])\n",
        "model.summary()"
      ],
      "metadata": {
        "colab": {
          "base_uri": "https://localhost:8080/"
        },
        "id": "W0Ej5m7iHgcg",
        "outputId": "cc967aaa-dcf0-48d5-f048-b3dae560dc87"
      },
      "execution_count": null,
      "outputs": [
        {
          "output_type": "stream",
          "name": "stdout",
          "text": [
            "Model: \"sequential_38\"\n",
            "_________________________________________________________________\n",
            " Layer (type)                Output Shape              Param #   \n",
            "=================================================================\n",
            " lstm_66 (LSTM)              (None, 32, 8)             704       \n",
            "                                                                 \n",
            " dropout (Dropout)           (None, 32, 8)             0         \n",
            "                                                                 \n",
            " dense_41 (Dense)            (None, 32, 8)             72        \n",
            "                                                                 \n",
            " flatten_2 (Flatten)         (None, 256)               0         \n",
            "                                                                 \n",
            " dense_42 (Dense)            (None, 4)                 1028      \n",
            "                                                                 \n",
            "=================================================================\n",
            "Total params: 1804 (7.05 KB)\n",
            "Trainable params: 1804 (7.05 KB)\n",
            "Non-trainable params: 0 (0.00 Byte)\n",
            "_________________________________________________________________\n"
          ]
        }
      ]
    },
    {
      "cell_type": "code",
      "source": [
        "# optimizer = tf.keras.optimizers.SGD(learning_rate = 0.1)\n",
        "model.compile(optimizer = 'adam', loss = 'MSE', metrics = ['accuracy'])"
      ],
      "metadata": {
        "id": "fM57X8UhV__l"
      },
      "execution_count": null,
      "outputs": []
    },
    {
      "cell_type": "code",
      "source": [
        "history = model.fit(x_train, y_train, epochs = 200, validation_split = 0.2)"
      ],
      "metadata": {
        "id": "iJmRNgaKWMcI"
      },
      "execution_count": null,
      "outputs": []
    },
    {
      "cell_type": "code",
      "source": [
        "plt.figure(figsize=(12, 4))\n",
        "\n",
        "plt.subplot(1,2,1)\n",
        "plt.plot(history.history['loss'], 'b-', label = 'loss')\n",
        "plt.plot(history.history['val_loss'], 'r--', label = 'val_loss')\n",
        "plt.xlabel('Epoch')\n",
        "plt.legend()\n",
        "\n",
        "plt.subplot(1,2,2)\n",
        "plt.plot(history.history['accuracy'], 'g-', label = 'accuracy')\n",
        "plt.plot(history.history['val_accuracy'], 'r--', label = 'val_accuracy')\n",
        "plt.xlabel('Epoch')\n",
        "plt.ylim(0, 0.6)\n",
        "plt.legend()\n",
        "\n",
        "plt.show()\n",
        "\n",
        "model.evaluate(x_test, y_test, verbose = 0)"
      ],
      "metadata": {
        "colab": {
          "base_uri": "https://localhost:8080/",
          "height": 412
        },
        "id": "LsxoOsoMW-xE",
        "outputId": "1fc5a313-6588-40e2-ae0e-e005a9cb5b80"
      },
      "execution_count": null,
      "outputs": [
        {
          "output_type": "display_data",
          "data": {
            "text/plain": [
              "<Figure size 1200x400 with 2 Axes>"
            ],
            "image/png": "[encoded data removed]"
          },
          "metadata": {}
        },
        {
          "output_type": "execute_result",
          "data": {
            "text/plain": [
              "[0.16851627826690674, 0.24495677649974823]"
            ]
          },
          "metadata": {},
          "execution_count": 120
        }
      ]
    },
    {
      "cell_type": "code",
      "source": [
        "model.evaluate(x_test, y_test)"
      ],
      "metadata": {
        "id": "E5TTOdawWf4V"
      },
      "execution_count": null,
      "outputs": []
    },
    {
      "cell_type": "code",
      "source": [
        "prediction = model.predict(transform_sequential_dataset(MFCCs_T, 32))\n",
        "print(prediction)"
      ],
      "metadata": {
        "id": "gvjCTOV7WrTH"
      },
      "execution_count": null,
      "outputs": []
    },
    {
      "cell_type": "code",
      "source": [
        "count = 0\n",
        "for i in range(len(prediction)) :\n",
        "  for j in range(len(prediction[0])) :\n",
        "    if prediction[i][j] > 0.25 :\n",
        "      count += 1\n",
        "ratio = count / (len(prediction) * 4)\n",
        "\n",
        "print(count, ratio)"
      ],
      "metadata": {
        "colab": {
          "base_uri": "https://localhost:8080/"
        },
        "id": "Nz-UmgRxXa0p",
        "outputId": "a3784ed7-3180-48cb-de5d-b6e1f9c5b4f4"
      },
      "execution_count": null,
      "outputs": [
        {
          "output_type": "stream",
          "name": "stdout",
          "text": [
            "3393 0.24459342560553632\n"
          ]
        }
      ]
    },
    {
      "cell_type": "code",
      "source": [
        "count = 0\n",
        "for i in range(len(noteinfo_np)) :\n",
        "  for j in range(len(noteinfo_np[0])) :\n",
        "    if noteinfo_np[i][j] == 1 :\n",
        "      count += 1\n",
        "ratio = count / (len(noteinfo_np) * 4)\n",
        "\n",
        "print(count, ratio)"
      ],
      "metadata": {
        "colab": {
          "base_uri": "https://localhost:8080/"
        },
        "id": "jU41hCS7X7j4",
        "outputId": "613aa62d-4af3-47c3-9bfe-88499714646c"
      },
      "execution_count": null,
      "outputs": [
        {
          "output_type": "stream",
          "name": "stdout",
          "text": [
            "3267 0.23551038062283736\n"
          ]
        }
      ]
    },
    {
      "cell_type": "code",
      "source": [
        "answer = [[0] * button_count for i in range(round(music_length_sec / note_time_dist) + 1)]\n",
        "for i in range(len(prediction)) :\n",
        "  for j in range(len(prediction[0])) :\n",
        "    if prediction[i][j] > 0.25 :\n",
        "      answer[i][j] = 1"
      ],
      "metadata": {
        "id": "ymBOIK48aqru"
      },
      "execution_count": null,
      "outputs": []
    }
  ]
}
